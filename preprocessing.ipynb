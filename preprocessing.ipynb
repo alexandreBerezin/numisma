{
 "cells": [
  {
   "cell_type": "markdown",
   "id": "39c6f5fc-7c3c-4927-b35d-4c4882d20f90",
   "metadata": {},
   "source": [
    "### Animation montrant les différents paramètres pour le pré traitement "
   ]
  },
  {
   "cell_type": "code",
   "execution_count": 10,
   "id": "c3e22c70-a305-4fe2-bc13-9bbe81b3e0be",
   "metadata": {},
   "outputs": [],
   "source": [
    "from ipywidgets import interact_manual\n",
    "import cv2 as cv\n",
    "from pathlib import Path\n",
    "import matplotlib.pyplot as plt\n"
   ]
  },
  {
   "cell_type": "code",
   "execution_count": 17,
   "id": "91f7d8e0-a254-404f-b52d-d72476956d56",
   "metadata": {},
   "outputs": [],
   "source": [
    "path1 = Path(\"data/dataTest1/11621 Revers.jpg\")\n",
    "img1 = cv.imread(str(path1),cv.IMREAD_GRAYSCALE) # queryImage"
   ]
  },
  {
   "cell_type": "code",
   "execution_count": 18,
   "id": "847b7026-7aab-4aea-bb9a-664793813c40",
   "metadata": {},
   "outputs": [],
   "source": [
    "def showParam(clipLimit = 2,titleGridSize = 5,h=1):\n",
    "    plt.figure(figsize=(10,10))\n",
    "    \n",
    "    # create a CLAHE object (Arguments are optional).\n",
    "    clahe = cv.createCLAHE(clipLimit=clipLimit, tileGridSize=(titleGridSize,titleGridSize))\n",
    "    imgHist = clahe.apply(img1)\n",
    "    imgDenoised =  cv.fastNlMeansDenoising(imgHist,None,h)\n",
    "\n",
    "    image_rgb = cv.cvtColor(img1, cv.COLOR_BGR2RGB)\n",
    "    imgDenoised_rgb = cv.cvtColor(imgDenoised, cv.COLOR_BGR2RGB)\n",
    "    \n",
    "    # Display the image inline in Jupyter Notebook\n",
    "    lim = 360\n",
    "    imgOut = cv.hconcat([img1[:,:lim],imgDenoised[:,lim:]])\n",
    "\n",
    "    imgOut_rgb = cv.cvtColor(imgOut, cv.COLOR_BGR2RGB)\n",
    "    plt.imshow(imgOut_rgb)"
   ]
  },
  {
   "cell_type": "code",
   "execution_count": 19,
   "id": "9f823b0e-300f-43e8-aa36-532f775fbbf3",
   "metadata": {},
   "outputs": [
    {
     "data": {
      "application/vnd.jupyter.widget-view+json": {
       "model_id": "bf9fee43b1bf4400b16db550b3396258",
       "version_major": 2,
       "version_minor": 0
      },
      "text/plain": [
       "interactive(children=(FloatSlider(value=2.0, description='clipLimit', max=10.0), IntSlider(value=5, descriptio…"
      ]
     },
     "metadata": {},
     "output_type": "display_data"
    },
    {
     "data": {
      "text/plain": [
       "<function __main__.showParam(clipLimit=2, titleGridSize=5, h=1)>"
      ]
     },
     "execution_count": 19,
     "metadata": {},
     "output_type": "execute_result"
    }
   ],
   "source": [
    "interact_manual(showParam, clipLimit=(0,10,0.1),titleGridSize=(1,20,1),h=(0,50,0.1))\n",
    "\n",
    "# Cliplimit 2\n",
    "# tile GridSize = 10\n",
    "# h 22"
   ]
  },
  {
   "cell_type": "code",
   "execution_count": null,
   "id": "057187e5-da1b-4eb5-8d8f-487dd864575e",
   "metadata": {},
   "outputs": [],
   "source": []
  }
 ],
 "metadata": {
  "kernelspec": {
   "display_name": "Python 3 (ipykernel)",
   "language": "python",
   "name": "python3"
  },
  "language_info": {
   "codemirror_mode": {
    "name": "ipython",
    "version": 3
   },
   "file_extension": ".py",
   "mimetype": "text/x-python",
   "name": "python",
   "nbconvert_exporter": "python",
   "pygments_lexer": "ipython3",
   "version": "3.11.4"
  }
 },
 "nbformat": 4,
 "nbformat_minor": 5
}
